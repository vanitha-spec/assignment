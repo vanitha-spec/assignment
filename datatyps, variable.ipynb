{
 "cells": [
  {
   "cell_type": "markdown",
   "id": "d69c8de4-1961-46f8-900b-ce596a7cc208",
   "metadata": {},
   "source": [
    "# 10th APRIL - FSDS, GENAI, AGENTIAI "
   ]
  },
  {
   "cell_type": "code",
   "execution_count": 1,
   "id": "11d99c27-9fe6-48db-98f5-fbad87dacb9c",
   "metadata": {},
   "outputs": [
    {
     "data": {
      "text/plain": [
       "9"
      ]
     },
     "execution_count": 1,
     "metadata": {},
     "output_type": "execute_result"
    }
   ],
   "source": [
    "9"
   ]
  },
  {
   "cell_type": "code",
   "execution_count": 2,
   "id": "dd915bc6-eaba-4a48-8f8f-603830f47431",
   "metadata": {},
   "outputs": [
    {
     "data": {
      "text/plain": [
       "18"
      ]
     },
     "execution_count": 2,
     "metadata": {},
     "output_type": "execute_result"
    }
   ],
   "source": [
    "9 + 9"
   ]
  },
  {
   "cell_type": "code",
   "execution_count": 3,
   "id": "84e6a0c0-e28b-4d79-a4e8-4cba6a209ef6",
   "metadata": {},
   "outputs": [
    {
     "data": {
      "text/plain": [
       "14"
      ]
     },
     "execution_count": 3,
     "metadata": {},
     "output_type": "execute_result"
    }
   ],
   "source": [
    "9 + 9 - (10 - 3) + 3"
   ]
  },
  {
   "cell_type": "code",
   "execution_count": 4,
   "id": "799f3ea9-2d44-4938-8ec6-0cf4af6da477",
   "metadata": {},
   "outputs": [
    {
     "data": {
      "text/plain": [
       "8"
      ]
     },
     "execution_count": 4,
     "metadata": {},
     "output_type": "execute_result"
    }
   ],
   "source": [
    "9 + 9 - 10 - 3 + 3"
   ]
  },
  {
   "cell_type": "markdown",
   "id": "666dd8a4-7162-47d4-a91f-0de9b559f171",
   "metadata": {},
   "source": [
    "# numbers are called as operand \n",
    "# +, - * are called operator"
   ]
  },
  {
   "cell_type": "markdown",
   "id": "a3135f9e-7476-47f0-bf94-93e8f3e58d98",
   "metadata": {},
   "source": [
    "# ARITHMETIC OPERATOR "
   ]
  },
  {
   "cell_type": "markdown",
   "id": "70c53e4b-a0a0-4a73-bad8-3e3baba0b3e3",
   "metadata": {},
   "source": [
    "- 1- ARITHMETIC OPERATOR ( + , -, *, /, %, %%, **)\n",
    "- 2- ASSIGNMEN OPERATOR (=)\n",
    "- 3- RELATIONAL OPERATOR\n",
    "- 4- LOGICAL OPERATOR\n",
    "- 5- UNARY OPERATOR"
   ]
  },
  {
   "cell_type": "code",
   "execution_count": 6,
   "id": "71fe18cb-d03f-4363-b439-c517b45c0c47",
   "metadata": {},
   "outputs": [
    {
     "data": {
      "text/plain": [
       "15"
      ]
     },
     "execution_count": 6,
     "metadata": {},
     "output_type": "execute_result"
    }
   ],
   "source": [
    "10 + 5"
   ]
  },
  {
   "cell_type": "code",
   "execution_count": 7,
   "id": "f513d1c7-72ed-4bb2-a871-86f347ce2b3d",
   "metadata": {},
   "outputs": [
    {
     "data": {
      "text/plain": [
       "5"
      ]
     },
     "execution_count": 7,
     "metadata": {},
     "output_type": "execute_result"
    }
   ],
   "source": [
    "10- 5"
   ]
  },
  {
   "cell_type": "code",
   "execution_count": 8,
   "id": "e6b4a85c-c385-49d6-989f-3125f3108570",
   "metadata": {},
   "outputs": [
    {
     "data": {
      "text/plain": [
       "50"
      ]
     },
     "execution_count": 8,
     "metadata": {},
     "output_type": "execute_result"
    }
   ],
   "source": [
    "10 * 5"
   ]
  },
  {
   "cell_type": "code",
   "execution_count": 9,
   "id": "7e962897-74f7-4d69-bdd9-85853ed1222b",
   "metadata": {},
   "outputs": [
    {
     "data": {
      "text/plain": [
       "20"
      ]
     },
     "execution_count": 9,
     "metadata": {},
     "output_type": "execute_result"
    }
   ],
   "source": [
    "10 * 2 # MULTIPLICATION "
   ]
  },
  {
   "cell_type": "code",
   "execution_count": 10,
   "id": "67d0026d-4de6-4e86-b435-3a409b4de5a3",
   "metadata": {},
   "outputs": [
    {
     "data": {
      "text/plain": [
       "100"
      ]
     },
     "execution_count": 10,
     "metadata": {},
     "output_type": "execute_result"
    }
   ],
   "source": [
    "10 ** 2  #POWER "
   ]
  },
  {
   "cell_type": "code",
   "execution_count": 11,
   "id": "1d11bf8c-5a8a-4269-889d-1c90d75d0be5",
   "metadata": {},
   "outputs": [
    {
     "ename": "SyntaxError",
     "evalue": "invalid syntax (2368405663.py, line 1)",
     "output_type": "error",
     "traceback": [
      "\u001b[1;36m  Cell \u001b[1;32mIn[11], line 1\u001b[1;36m\u001b[0m\n\u001b[1;33m    10 *** 2\u001b[0m\n\u001b[1;37m         ^\u001b[0m\n\u001b[1;31mSyntaxError\u001b[0m\u001b[1;31m:\u001b[0m invalid syntax\n"
     ]
    }
   ],
   "source": [
    "10 *** 2 "
   ]
  },
  {
   "cell_type": "code",
   "execution_count": 12,
   "id": "131de2ee-bf73-4efa-b59c-97c09bf969a2",
   "metadata": {},
   "outputs": [
    {
     "data": {
      "text/plain": [
       "2.0"
      ]
     },
     "execution_count": 12,
     "metadata": {},
     "output_type": "execute_result"
    }
   ],
   "source": [
    "10 / 5 # FLOAT DIVISION "
   ]
  },
  {
   "cell_type": "code",
   "execution_count": 13,
   "id": "56dc75da-0ef1-410e-981d-ca6eb75e3227",
   "metadata": {},
   "outputs": [
    {
     "data": {
      "text/plain": [
       "2"
      ]
     },
     "execution_count": 13,
     "metadata": {},
     "output_type": "execute_result"
    }
   ],
   "source": [
    "10 // 5 # int division "
   ]
  },
  {
   "cell_type": "code",
   "execution_count": 14,
   "id": "f0a939b9-7d57-4e96-a590-fe2b9511f9f0",
   "metadata": {},
   "outputs": [
    {
     "data": {
      "text/plain": [
       "0"
      ]
     },
     "execution_count": 14,
     "metadata": {},
     "output_type": "execute_result"
    }
   ],
   "source": [
    "10 % 5"
   ]
  },
  {
   "cell_type": "code",
   "execution_count": 15,
   "id": "63119534-0b73-4aa6-a28c-5caca7f9d9f2",
   "metadata": {},
   "outputs": [
    {
     "data": {
      "text/plain": [
       "3"
      ]
     },
     "execution_count": 15,
     "metadata": {},
     "output_type": "execute_result"
    }
   ],
   "source": [
    "15 % 6"
   ]
  },
  {
   "cell_type": "code",
   "execution_count": 20,
   "id": "a9df1c0f-6363-41d8-a952-d3794bbefe02",
   "metadata": {},
   "outputs": [
    {
     "ename": "SyntaxError",
     "evalue": "invalid syntax (3520989292.py, line 1)",
     "output_type": "error",
     "traceback": [
      "\u001b[1;36m  Cell \u001b[1;32mIn[20], line 1\u001b[1;36m\u001b[0m\n\u001b[1;33m    15 %% 6\u001b[0m\n\u001b[1;37m        ^\u001b[0m\n\u001b[1;31mSyntaxError\u001b[0m\u001b[1;31m:\u001b[0m invalid syntax\n"
     ]
    }
   ],
   "source": [
    "15 %% 6"
   ]
  },
  {
   "cell_type": "code",
   "execution_count": 16,
   "id": "13e8b157-9584-4c55-9f80-50d5e30cb3be",
   "metadata": {},
   "outputs": [
    {
     "data": {
      "text/plain": [
       "2.5"
      ]
     },
     "execution_count": 16,
     "metadata": {},
     "output_type": "execute_result"
    }
   ],
   "source": [
    "15 / 6"
   ]
  },
  {
   "cell_type": "code",
   "execution_count": 17,
   "id": "25547178-797b-4a18-9cfb-447087f199ae",
   "metadata": {},
   "outputs": [
    {
     "data": {
      "text/plain": [
       "2"
      ]
     },
     "execution_count": 17,
     "metadata": {},
     "output_type": "execute_result"
    }
   ],
   "source": [
    "15 // 6"
   ]
  },
  {
   "cell_type": "markdown",
   "id": "a59b92ba-2f8f-4f7f-b5eb-62ac9e2c2561",
   "metadata": {},
   "source": [
    "# Assignment operator "
   ]
  },
  {
   "cell_type": "code",
   "execution_count": 54,
   "id": "f9bfa576-1abd-45c5-b90a-c5186eedb04b",
   "metadata": {},
   "outputs": [
    {
     "data": {
      "text/plain": [
       "10"
      ]
     },
     "execution_count": 54,
     "metadata": {},
     "output_type": "execute_result"
    }
   ],
   "source": [
    "x = 10 \n",
    "x\n",
    "# x is called variable or object or identifier "
   ]
  },
  {
   "cell_type": "code",
   "execution_count": 29,
   "id": "ca64e0a1-e3ec-4202-adca-c5ca705970f1",
   "metadata": {},
   "outputs": [
    {
     "data": {
      "text/plain": [
       "12"
      ]
     },
     "execution_count": 29,
     "metadata": {},
     "output_type": "execute_result"
    }
   ],
   "source": [
    "x + 2"
   ]
  },
  {
   "cell_type": "code",
   "execution_count": 30,
   "id": "a8b03298-6199-45bc-b1ea-f52e3d3ddee2",
   "metadata": {},
   "outputs": [
    {
     "data": {
      "text/plain": [
       "12"
      ]
     },
     "execution_count": 30,
     "metadata": {},
     "output_type": "execute_result"
    }
   ],
   "source": [
    "x + 2"
   ]
  },
  {
   "cell_type": "code",
   "execution_count": 31,
   "id": "40a4a58b-760f-4d93-953d-19b83aeb8cd1",
   "metadata": {},
   "outputs": [
    {
     "data": {
      "text/plain": [
       "12"
      ]
     },
     "execution_count": 31,
     "metadata": {},
     "output_type": "execute_result"
    }
   ],
   "source": [
    "x + 2"
   ]
  },
  {
   "cell_type": "code",
   "execution_count": 32,
   "id": "bf984a1b-b847-46e6-8e61-d666e111ecaf",
   "metadata": {},
   "outputs": [
    {
     "data": {
      "text/plain": [
       "12"
      ]
     },
     "execution_count": 32,
     "metadata": {},
     "output_type": "execute_result"
    }
   ],
   "source": [
    "x + 2"
   ]
  },
  {
   "cell_type": "code",
   "execution_count": 35,
   "id": "623461b2-4a58-4198-8512-c86dc6c1b0c7",
   "metadata": {},
   "outputs": [
    {
     "data": {
      "text/plain": [
       "14"
      ]
     },
     "execution_count": 35,
     "metadata": {},
     "output_type": "execute_result"
    }
   ],
   "source": [
    "x += 2\n",
    "x"
   ]
  },
  {
   "cell_type": "code",
   "execution_count": 36,
   "id": "b33943e5-eb38-420b-848a-5b8cc862e512",
   "metadata": {},
   "outputs": [
    {
     "data": {
      "text/plain": [
       "16"
      ]
     },
     "execution_count": 36,
     "metadata": {},
     "output_type": "execute_result"
    }
   ],
   "source": [
    "x += 2\n",
    "x"
   ]
  },
  {
   "cell_type": "code",
   "execution_count": 37,
   "id": "20ac9643-40f7-4962-9064-1706afc45483",
   "metadata": {},
   "outputs": [
    {
     "data": {
      "text/plain": [
       "18"
      ]
     },
     "execution_count": 37,
     "metadata": {},
     "output_type": "execute_result"
    }
   ],
   "source": [
    "x += 2\n",
    "x"
   ]
  },
  {
   "cell_type": "code",
   "execution_count": 38,
   "id": "ce4fa972-070e-4305-9fcc-7730b3d0fe5c",
   "metadata": {},
   "outputs": [
    {
     "data": {
      "text/plain": [
       "20"
      ]
     },
     "execution_count": 38,
     "metadata": {},
     "output_type": "execute_result"
    }
   ],
   "source": [
    "x += 2\n",
    "x"
   ]
  },
  {
   "cell_type": "code",
   "execution_count": 39,
   "id": "2e2afbf5-9696-422c-99de-946c23ed3123",
   "metadata": {},
   "outputs": [
    {
     "data": {
      "text/plain": [
       "20"
      ]
     },
     "execution_count": 39,
     "metadata": {},
     "output_type": "execute_result"
    }
   ],
   "source": [
    "x"
   ]
  },
  {
   "cell_type": "code",
   "execution_count": 41,
   "id": "104bba39-f34b-4c23-87e2-2d75a0ebb7b3",
   "metadata": {},
   "outputs": [
    {
     "data": {
      "text/plain": [
       "16"
      ]
     },
     "execution_count": 41,
     "metadata": {},
     "output_type": "execute_result"
    }
   ],
   "source": [
    "x -= 2\n",
    "x"
   ]
  },
  {
   "cell_type": "code",
   "execution_count": 42,
   "id": "e2b375af-2bc3-436e-845f-29a6d412f4b2",
   "metadata": {},
   "outputs": [
    {
     "data": {
      "text/plain": [
       "14"
      ]
     },
     "execution_count": 42,
     "metadata": {},
     "output_type": "execute_result"
    }
   ],
   "source": [
    "x -= 2\n",
    "x"
   ]
  },
  {
   "cell_type": "code",
   "execution_count": 43,
   "id": "a7601ca5-8e93-4d38-a0f7-06570c9906ad",
   "metadata": {},
   "outputs": [
    {
     "data": {
      "text/plain": [
       "12"
      ]
     },
     "execution_count": 43,
     "metadata": {},
     "output_type": "execute_result"
    }
   ],
   "source": [
    "x -= 2\n",
    "x"
   ]
  },
  {
   "cell_type": "code",
   "execution_count": 44,
   "id": "16bfad2a-7de2-4ba2-b3d3-eec8aa86dea1",
   "metadata": {},
   "outputs": [
    {
     "data": {
      "text/plain": [
       "12"
      ]
     },
     "execution_count": 44,
     "metadata": {},
     "output_type": "execute_result"
    }
   ],
   "source": [
    "x "
   ]
  },
  {
   "cell_type": "code",
   "execution_count": 45,
   "id": "05eb6608-a744-42a5-bed0-35f9190b4413",
   "metadata": {},
   "outputs": [
    {
     "data": {
      "text/plain": [
       "24"
      ]
     },
     "execution_count": 45,
     "metadata": {},
     "output_type": "execute_result"
    }
   ],
   "source": [
    "x *= 2\n",
    "x"
   ]
  },
  {
   "cell_type": "code",
   "execution_count": 46,
   "id": "37e1cce5-7d93-41db-8990-d9f9dfade494",
   "metadata": {},
   "outputs": [
    {
     "data": {
      "text/plain": [
       "48"
      ]
     },
     "execution_count": 46,
     "metadata": {},
     "output_type": "execute_result"
    }
   ],
   "source": [
    "x *= 2\n",
    "x"
   ]
  },
  {
   "cell_type": "code",
   "execution_count": 47,
   "id": "b9b80606-390d-4a2a-9715-57243ebde5df",
   "metadata": {},
   "outputs": [],
   "source": [
    "x /= 2"
   ]
  },
  {
   "cell_type": "code",
   "execution_count": 48,
   "id": "4c58be43-c1f9-4371-9712-d5f7e87394be",
   "metadata": {},
   "outputs": [
    {
     "data": {
      "text/plain": [
       "24.0"
      ]
     },
     "execution_count": 48,
     "metadata": {},
     "output_type": "execute_result"
    }
   ],
   "source": [
    "x"
   ]
  },
  {
   "cell_type": "code",
   "execution_count": 50,
   "id": "a5c33c75-c14c-49ee-87d2-d052a17317a3",
   "metadata": {},
   "outputs": [
    {
     "data": {
      "text/plain": [
       "6.0"
      ]
     },
     "execution_count": 50,
     "metadata": {},
     "output_type": "execute_result"
    }
   ],
   "source": [
    "x /= 2\n",
    "x"
   ]
  },
  {
   "cell_type": "markdown",
   "id": "532cbe54-44e7-4a25-82c4-10dc5f767006",
   "metadata": {},
   "source": [
    "# unary operator "
   ]
  },
  {
   "cell_type": "code",
   "execution_count": 51,
   "id": "7ce7989b-31ef-4777-8af2-80beb66f3378",
   "metadata": {},
   "outputs": [
    {
     "data": {
      "text/plain": [
       "7"
      ]
     },
     "execution_count": 51,
     "metadata": {},
     "output_type": "execute_result"
    }
   ],
   "source": [
    "n = 7\n",
    "n"
   ]
  },
  {
   "cell_type": "code",
   "execution_count": 52,
   "id": "1b0c9590-39fc-4758-a4c1-72ed0dfafb95",
   "metadata": {},
   "outputs": [
    {
     "data": {
      "text/plain": [
       "-7"
      ]
     },
     "execution_count": 52,
     "metadata": {},
     "output_type": "execute_result"
    }
   ],
   "source": [
    "m = -n\n",
    "m"
   ]
  },
  {
   "cell_type": "markdown",
   "id": "371cfed7-302b-4aba-ab80-ee9e1915fe30",
   "metadata": {},
   "source": [
    "# 15th April -- Variable "
   ]
  },
  {
   "cell_type": "code",
   "execution_count": 2,
   "id": "2f70319c-2d78-45b2-954e-e5d0879468d0",
   "metadata": {},
   "outputs": [
    {
     "ename": "SyntaxError",
     "evalue": "invalid decimal literal (4142177061.py, line 1)",
     "output_type": "error",
     "traceback": [
      "\u001b[1;36m  Cell \u001b[1;32mIn[2], line 1\u001b[1;36m\u001b[0m\n\u001b[1;33m    1nit = 9 # variable doesnot start with digit\u001b[0m\n\u001b[1;37m    ^\u001b[0m\n\u001b[1;31mSyntaxError\u001b[0m\u001b[1;31m:\u001b[0m invalid decimal literal\n"
     ]
    }
   ],
   "source": [
    "1nit = 9 # variable doesnot start with digit"
   ]
  },
  {
   "cell_type": "code",
   "execution_count": 4,
   "id": "1dd4cdb8-b728-4408-a048-2ea8edf1eec2",
   "metadata": {},
   "outputs": [
    {
     "data": {
      "text/plain": [
       "9"
      ]
     },
     "execution_count": 4,
     "metadata": {},
     "output_type": "execute_result"
    }
   ],
   "source": [
    "nit1 = 9\n",
    "nit1"
   ]
  },
  {
   "cell_type": "code",
   "execution_count": 5,
   "id": "a49d8118-d722-441f-8549-dd3f7d327357",
   "metadata": {},
   "outputs": [
    {
     "ename": "SyntaxError",
     "evalue": "invalid syntax (2049461669.py, line 1)",
     "output_type": "error",
     "traceback": [
      "\u001b[1;36m  Cell \u001b[1;32mIn[5], line 1\u001b[1;36m\u001b[0m\n\u001b[1;33m    nit@ = 9 #\u001b[0m\n\u001b[1;37m         ^\u001b[0m\n\u001b[1;31mSyntaxError\u001b[0m\u001b[1;31m:\u001b[0m invalid syntax\n"
     ]
    }
   ],
   "source": [
    "nit@ = 9 #variable shold not allows spcial character"
   ]
  },
  {
   "cell_type": "code",
   "execution_count": 6,
   "id": "c87faafe-f892-43f8-82ca-ab65a7ea37f1",
   "metadata": {},
   "outputs": [
    {
     "data": {
      "text/plain": [
       "9"
      ]
     },
     "execution_count": 6,
     "metadata": {},
     "output_type": "execute_result"
    }
   ],
   "source": [
    "nit_ = 9\n",
    "nit_"
   ]
  },
  {
   "cell_type": "code",
   "execution_count": 7,
   "id": "a19344a0-0306-446d-9960-544e197a02e0",
   "metadata": {},
   "outputs": [
    {
     "ename": "SyntaxError",
     "evalue": "invalid syntax (68142693.py, line 1)",
     "output_type": "error",
     "traceback": [
      "\u001b[1;36m  Cell \u001b[1;32mIn[7], line 1\u001b[1;36m\u001b[0m\n\u001b[1;33m    def = 89\u001b[0m\n\u001b[1;37m        ^\u001b[0m\n\u001b[1;31mSyntaxError\u001b[0m\u001b[1;31m:\u001b[0m invalid syntax\n"
     ]
    }
   ],
   "source": [
    "def = 89\n",
    "def"
   ]
  },
  {
   "cell_type": "code",
   "execution_count": 9,
   "id": "8f3b18b0-ea8e-4adb-a17f-a181ea7d56cc",
   "metadata": {},
   "outputs": [
    {
     "data": {
      "text/plain": [
       "['False',\n",
       " 'None',\n",
       " 'True',\n",
       " 'and',\n",
       " 'as',\n",
       " 'assert',\n",
       " 'async',\n",
       " 'await',\n",
       " 'break',\n",
       " 'class',\n",
       " 'continue',\n",
       " 'def',\n",
       " 'del',\n",
       " 'elif',\n",
       " 'else',\n",
       " 'except',\n",
       " 'finally',\n",
       " 'for',\n",
       " 'from',\n",
       " 'global',\n",
       " 'if',\n",
       " 'import',\n",
       " 'in',\n",
       " 'is',\n",
       " 'lambda',\n",
       " 'nonlocal',\n",
       " 'not',\n",
       " 'or',\n",
       " 'pass',\n",
       " 'raise',\n",
       " 'return',\n",
       " 'try',\n",
       " 'while',\n",
       " 'with',\n",
       " 'yield']"
      ]
     },
     "execution_count": 9,
     "metadata": {},
     "output_type": "execute_result"
    }
   ],
   "source": [
    "import keyword\n",
    "keyword.kwlist"
   ]
  },
  {
   "cell_type": "code",
   "execution_count": 10,
   "id": "2437bd3c-6340-488d-984d-a4269decca27",
   "metadata": {},
   "outputs": [
    {
     "data": {
      "text/plain": [
       "35"
      ]
     },
     "execution_count": 10,
     "metadata": {},
     "output_type": "execute_result"
    }
   ],
   "source": [
    "len(keyword.kwlist)"
   ]
  },
  {
   "cell_type": "code",
   "execution_count": 11,
   "id": "84f352b1-f73a-47f9-af7a-7ddf4a5b2a86",
   "metadata": {},
   "outputs": [
    {
     "data": {
      "text/plain": [
       "'3.11.7 | packaged by Anaconda, Inc. | (main, Dec 15 2023, 18:05:47) [MSC v.1916 64 bit (AMD64)]'"
      ]
     },
     "execution_count": 11,
     "metadata": {},
     "output_type": "execute_result"
    }
   ],
   "source": [
    "import sys\n",
    "sys.version"
   ]
  },
  {
   "cell_type": "markdown",
   "id": "88ad7e25-4a8c-442a-93ee-c5a83d303db0",
   "metadata": {},
   "source": [
    "# 16th "
   ]
  },
  {
   "cell_type": "code",
   "execution_count": 13,
   "id": "7d625575-4075-41de-bf5f-b4b6dd2937a0",
   "metadata": {},
   "outputs": [
    {
     "data": {
      "text/plain": [
       "10"
      ]
     },
     "execution_count": 13,
     "metadata": {},
     "output_type": "execute_result"
    }
   ],
   "source": [
    "a = 10 \n",
    "a"
   ]
  },
  {
   "cell_type": "code",
   "execution_count": 17,
   "id": "90c3e31c-bf07-4fcb-8cdb-51987a8fb2c9",
   "metadata": {},
   "outputs": [
    {
     "data": {
      "text/plain": [
       "20"
      ]
     },
     "execution_count": 17,
     "metadata": {},
     "output_type": "execute_result"
    }
   ],
   "source": [
    "a = 20\n",
    "a"
   ]
  },
  {
   "cell_type": "code",
   "execution_count": 18,
   "id": "0e199f69-0c44-403f-88a9-ccec9e17805d",
   "metadata": {},
   "outputs": [
    {
     "data": {
      "text/plain": [
       "int"
      ]
     },
     "execution_count": 18,
     "metadata": {},
     "output_type": "execute_result"
    }
   ],
   "source": [
    "type(a)"
   ]
  },
  {
   "cell_type": "markdown",
   "id": "10e03b25-05a3-4ac9-bf02-d08e45e2d8a6",
   "metadata": {},
   "source": [
    "# Python datatypes -->\n",
    "        - Integer datatypes\n",
    "        - float datatypes \n",
    "        - Bool datatypes\n",
    "        - string datatypes\n",
    "        - complex datatypes "
   ]
  },
  {
   "cell_type": "code",
   "execution_count": 21,
   "id": "255b55ee-138f-446e-bc05-4efee898ab43",
   "metadata": {},
   "outputs": [
    {
     "name": "stdout",
     "output_type": "stream",
     "text": [
      "45\n",
      "<class 'int'>\n"
     ]
    }
   ],
   "source": [
    "i = 45\n",
    "print(i)\n",
    "print(type(i))"
   ]
  },
  {
   "cell_type": "code",
   "execution_count": 26,
   "id": "1470acfc-61de-4a9a-8bc6-8a65145bce1a",
   "metadata": {},
   "outputs": [
    {
     "ename": "TypeError",
     "evalue": "cannot unpack non-iterable int object",
     "output_type": "error",
     "traceback": [
      "\u001b[1;31m---------------------------------------------------------------------------\u001b[0m",
      "\u001b[1;31mTypeError\u001b[0m                                 Traceback (most recent call last)",
      "Cell \u001b[1;32mIn[26], line 1\u001b[0m\n\u001b[1;32m----> 1\u001b[0m i1, i2 \u001b[38;5;241m=\u001b[39m \u001b[38;5;241m10\u001b[39m\n",
      "\u001b[1;31mTypeError\u001b[0m: cannot unpack non-iterable int object"
     ]
    }
   ],
   "source": [
    "i1, i2 = 10"
   ]
  },
  {
   "cell_type": "code",
   "execution_count": 29,
   "id": "39920125-b25e-4ff1-8a50-824a4fecf64b",
   "metadata": {},
   "outputs": [
    {
     "name": "stdout",
     "output_type": "stream",
     "text": [
      "10\n",
      "20\n",
      "30\n",
      "-10\n",
      "200\n",
      "0.5\n"
     ]
    }
   ],
   "source": [
    "i1, i2 = 10, 20\n",
    "\n",
    "print(i1)\n",
    "print(i2)\n",
    "\n",
    "print(i1 + i2)\n",
    "print(i1 - i2)\n",
    "print(i1 * i2)\n",
    "print(i1 / i2)"
   ]
  },
  {
   "cell_type": "markdown",
   "id": "1860d592-7080-4800-92d2-426cdba4a338",
   "metadata": {},
   "source": [
    "# float "
   ]
  },
  {
   "cell_type": "code",
   "execution_count": 24,
   "id": "50102fe0-31b5-4164-a106-445414046111",
   "metadata": {},
   "outputs": [
    {
     "data": {
      "text/plain": [
       "110.56"
      ]
     },
     "execution_count": 24,
     "metadata": {},
     "output_type": "execute_result"
    }
   ],
   "source": [
    "petrol = 110.56\n",
    "petrol"
   ]
  },
  {
   "cell_type": "code",
   "execution_count": 25,
   "id": "81d72589-8ec4-4a05-b86c-f3c32a9bc6ce",
   "metadata": {},
   "outputs": [
    {
     "data": {
      "text/plain": [
       "float"
      ]
     },
     "execution_count": 25,
     "metadata": {},
     "output_type": "execute_result"
    }
   ],
   "source": [
    "type(petrol)"
   ]
  },
  {
   "cell_type": "markdown",
   "id": "82959a1b-4995-4168-b41b-ba8687652527",
   "metadata": {},
   "source": [
    "# string (non techical - text, but technical we called this as string)"
   ]
  },
  {
   "cell_type": "code",
   "execution_count": 30,
   "id": "d4e7e5d9-f09f-47da-8eb5-a42688bef76b",
   "metadata": {},
   "outputs": [
    {
     "ename": "NameError",
     "evalue": "name 'nareshit' is not defined",
     "output_type": "error",
     "traceback": [
      "\u001b[1;31m---------------------------------------------------------------------------\u001b[0m",
      "\u001b[1;31mNameError\u001b[0m                                 Traceback (most recent call last)",
      "Cell \u001b[1;32mIn[30], line 1\u001b[0m\n\u001b[1;32m----> 1\u001b[0m s \u001b[38;5;241m=\u001b[39m nareshit\n\u001b[0;32m      2\u001b[0m s\n",
      "\u001b[1;31mNameError\u001b[0m: name 'nareshit' is not defined"
     ]
    }
   ],
   "source": [
    "s = nareshit\n",
    "s"
   ]
  },
  {
   "cell_type": "code",
   "execution_count": 31,
   "id": "dd2b8e8c-ea18-42c5-888b-7f555927092e",
   "metadata": {},
   "outputs": [
    {
     "data": {
      "text/plain": [
       "'nareshit'"
      ]
     },
     "execution_count": 31,
     "metadata": {},
     "output_type": "execute_result"
    }
   ],
   "source": [
    "s = 'nareshit'\n",
    "s"
   ]
  },
  {
   "cell_type": "code",
   "execution_count": 32,
   "id": "43aba7b3-e72d-4e1d-87da-66b1eb0cba2a",
   "metadata": {},
   "outputs": [
    {
     "data": {
      "text/plain": [
       "str"
      ]
     },
     "execution_count": 32,
     "metadata": {},
     "output_type": "execute_result"
    }
   ],
   "source": [
    "type(s)"
   ]
  },
  {
   "cell_type": "code",
   "execution_count": 33,
   "id": "2595a6e8-907f-410a-ae73-df07f993c315",
   "metadata": {},
   "outputs": [
    {
     "data": {
      "text/plain": [
       "'nareshit'"
      ]
     },
     "execution_count": 33,
     "metadata": {},
     "output_type": "execute_result"
    }
   ],
   "source": [
    "s1 = \"nareshit\"\n",
    "s1"
   ]
  },
  {
   "cell_type": "code",
   "execution_count": 36,
   "id": "871c934f-782b-4853-81a0-17d63893f9c8",
   "metadata": {},
   "outputs": [
    {
     "data": {
      "text/plain": [
       "'naresh it technology\\n        datascience, ai student -- 6 month i will change your brian'"
      ]
     },
     "execution_count": 36,
     "metadata": {},
     "output_type": "execute_result"
    }
   ],
   "source": [
    "s2 = '''naresh it technology\n",
    "        datascience, ai student -- 6 month i will change your brian'''\n",
    "s2"
   ]
  },
  {
   "cell_type": "code",
   "execution_count": 37,
   "id": "1091f73e-3ad4-458b-9049-1dedcbd18bfd",
   "metadata": {},
   "outputs": [
    {
     "data": {
      "text/plain": [
       "'nareshit'"
      ]
     },
     "execution_count": 37,
     "metadata": {},
     "output_type": "execute_result"
    }
   ],
   "source": [
    "s"
   ]
  },
  {
   "cell_type": "code",
   "execution_count": 40,
   "id": "f30a5d20-eb58-413e-8c7a-a80e7c0082c5",
   "metadata": {},
   "outputs": [
    {
     "name": "stdout",
     "output_type": "stream",
     "text": [
      "n\n",
      "t\n",
      "e\n"
     ]
    }
   ],
   "source": [
    "print(s[0])\n",
    "print(s[-1])\n",
    "print(s[3])"
   ]
  },
  {
   "cell_type": "code",
   "execution_count": 41,
   "id": "78acb957-3b7c-4254-af18-2783b2165c4a",
   "metadata": {},
   "outputs": [
    {
     "data": {
      "text/plain": [
       "'nareshit'"
      ]
     },
     "execution_count": 41,
     "metadata": {},
     "output_type": "execute_result"
    }
   ],
   "source": [
    "s"
   ]
  },
  {
   "cell_type": "code",
   "execution_count": 42,
   "id": "e5b345f4-f528-4e53-a409-590aa22d3ec1",
   "metadata": {},
   "outputs": [
    {
     "data": {
      "text/plain": [
       "'nareshit'"
      ]
     },
     "execution_count": 42,
     "metadata": {},
     "output_type": "execute_result"
    }
   ],
   "source": [
    "s[:]"
   ]
  },
  {
   "cell_type": "code",
   "execution_count": 43,
   "id": "33cc585e-7ef4-4f5a-99d6-e41431a08a6e",
   "metadata": {},
   "outputs": [
    {
     "data": {
      "text/plain": [
       "'res'"
      ]
     },
     "execution_count": 43,
     "metadata": {},
     "output_type": "execute_result"
    }
   ],
   "source": [
    "s[2:5]"
   ]
  },
  {
   "cell_type": "markdown",
   "id": "1905e5d8-3b9b-4319-916f-3663fc1384d4",
   "metadata": {},
   "source": [
    "# 17th"
   ]
  },
  {
   "cell_type": "code",
   "execution_count": 44,
   "id": "e04fd5ef-ac19-4ad4-99b7-661fb1308daf",
   "metadata": {},
   "outputs": [
    {
     "ename": "NameError",
     "evalue": "name 'true' is not defined",
     "output_type": "error",
     "traceback": [
      "\u001b[1;31m---------------------------------------------------------------------------\u001b[0m",
      "\u001b[1;31mNameError\u001b[0m                                 Traceback (most recent call last)",
      "Cell \u001b[1;32mIn[44], line 1\u001b[0m\n\u001b[1;32m----> 1\u001b[0m true\n",
      "\u001b[1;31mNameError\u001b[0m: name 'true' is not defined"
     ]
    }
   ],
   "source": [
    "true"
   ]
  },
  {
   "cell_type": "code",
   "execution_count": 45,
   "id": "4faed3d6-f04e-4e27-ae9d-7921efda427d",
   "metadata": {},
   "outputs": [
    {
     "data": {
      "text/plain": [
       "True"
      ]
     },
     "execution_count": 45,
     "metadata": {},
     "output_type": "execute_result"
    }
   ],
   "source": [
    "True"
   ]
  },
  {
   "cell_type": "code",
   "execution_count": 46,
   "id": "ac08b6ba-9a95-43db-a154-5a167fef92bf",
   "metadata": {},
   "outputs": [
    {
     "ename": "NameError",
     "evalue": "name 'false' is not defined",
     "output_type": "error",
     "traceback": [
      "\u001b[1;31m---------------------------------------------------------------------------\u001b[0m",
      "\u001b[1;31mNameError\u001b[0m                                 Traceback (most recent call last)",
      "Cell \u001b[1;32mIn[46], line 1\u001b[0m\n\u001b[1;32m----> 1\u001b[0m false\n",
      "\u001b[1;31mNameError\u001b[0m: name 'false' is not defined"
     ]
    }
   ],
   "source": [
    "false"
   ]
  },
  {
   "cell_type": "code",
   "execution_count": 47,
   "id": "106edd73-a215-4529-8cf0-8afa0779f888",
   "metadata": {},
   "outputs": [
    {
     "data": {
      "text/plain": [
       "False"
      ]
     },
     "execution_count": 47,
     "metadata": {},
     "output_type": "execute_result"
    }
   ],
   "source": [
    "False"
   ]
  },
  {
   "cell_type": "code",
   "execution_count": 49,
   "id": "ad6ecf9d-1b97-4318-b9e9-177ff03ad0b5",
   "metadata": {},
   "outputs": [],
   "source": [
    "b = True\n",
    "b1 = False"
   ]
  },
  {
   "cell_type": "code",
   "execution_count": 50,
   "id": "4b4fb3da-c93e-4d79-86b7-0094201cd26e",
   "metadata": {},
   "outputs": [
    {
     "data": {
      "text/plain": [
       "True"
      ]
     },
     "execution_count": 50,
     "metadata": {},
     "output_type": "execute_result"
    }
   ],
   "source": [
    "b"
   ]
  },
  {
   "cell_type": "code",
   "execution_count": 51,
   "id": "9bda465e-72fe-4441-95b1-8f9570ff71e7",
   "metadata": {},
   "outputs": [
    {
     "data": {
      "text/plain": [
       "False"
      ]
     },
     "execution_count": 51,
     "metadata": {},
     "output_type": "execute_result"
    }
   ],
   "source": [
    "b1"
   ]
  },
  {
   "cell_type": "code",
   "execution_count": 52,
   "id": "3b6b616e-febb-43b3-ac2b-188c6479a637",
   "metadata": {},
   "outputs": [
    {
     "data": {
      "text/plain": [
       "1"
      ]
     },
     "execution_count": 52,
     "metadata": {},
     "output_type": "execute_result"
    }
   ],
   "source": [
    "b + b1"
   ]
  },
  {
   "cell_type": "code",
   "execution_count": 54,
   "id": "68275a11-85e4-4b3d-8eab-2d46b975994a",
   "metadata": {},
   "outputs": [
    {
     "name": "stdout",
     "output_type": "stream",
     "text": [
      "1\n",
      "0\n",
      "0.0\n",
      "0\n"
     ]
    }
   ],
   "source": [
    "print(b-b1)\n",
    "print(b*b1)\n",
    "print(b1/b) # float division \n",
    "print(b1//b) # int division "
   ]
  },
  {
   "cell_type": "code",
   "execution_count": 57,
   "id": "7af508fa-534b-42b0-8c7a-2bdc48590817",
   "metadata": {},
   "outputs": [
    {
     "data": {
      "text/plain": [
       "bool"
      ]
     },
     "execution_count": 57,
     "metadata": {},
     "output_type": "execute_result"
    }
   ],
   "source": [
    "type(b1)"
   ]
  },
  {
   "cell_type": "markdown",
   "id": "8d8ade4b-0a64-4332-a732-6cd0bf515513",
   "metadata": {},
   "source": [
    "# complex -- dataype we can use more math operation -- nasa, isro, robo \n",
    "\n",
    "a + bj \n",
    "- a - real part \n",
    "- b - imaginary part\n",
    "- j - square root of -1\n"
   ]
  },
  {
   "cell_type": "code",
   "execution_count": 55,
   "id": "8bcb6ee0-03d3-49fb-97a4-634743e539d5",
   "metadata": {},
   "outputs": [
    {
     "data": {
      "text/plain": [
       "(10+20j)"
      ]
     },
     "execution_count": 55,
     "metadata": {},
     "output_type": "execute_result"
    }
   ],
   "source": [
    "c1 = 10 + 20j\n",
    "c1"
   ]
  },
  {
   "cell_type": "code",
   "execution_count": 58,
   "id": "138c3978-060f-4a96-b790-694fbf85e687",
   "metadata": {},
   "outputs": [
    {
     "data": {
      "text/plain": [
       "complex"
      ]
     },
     "execution_count": 58,
     "metadata": {},
     "output_type": "execute_result"
    }
   ],
   "source": [
    "type(c1)"
   ]
  },
  {
   "cell_type": "code",
   "execution_count": 59,
   "id": "bfe8b9c6-ab39-467e-b6e8-6b09dafed3ca",
   "metadata": {},
   "outputs": [
    {
     "data": {
      "text/plain": [
       "(10+20j)"
      ]
     },
     "execution_count": 59,
     "metadata": {},
     "output_type": "execute_result"
    }
   ],
   "source": [
    "c1"
   ]
  },
  {
   "cell_type": "code",
   "execution_count": 60,
   "id": "346553de-aeb3-467d-a3e9-7f9fcb096eba",
   "metadata": {},
   "outputs": [
    {
     "data": {
      "text/plain": [
       "10.0"
      ]
     },
     "execution_count": 60,
     "metadata": {},
     "output_type": "execute_result"
    }
   ],
   "source": [
    "c1.real"
   ]
  },
  {
   "cell_type": "code",
   "execution_count": 61,
   "id": "46103418-9854-4931-8fbb-b67fcddea809",
   "metadata": {},
   "outputs": [
    {
     "data": {
      "text/plain": [
       "20.0"
      ]
     },
     "execution_count": 61,
     "metadata": {},
     "output_type": "execute_result"
    }
   ],
   "source": [
    "c1.imag"
   ]
  },
  {
   "cell_type": "code",
   "execution_count": 64,
   "id": "b8df7c94-0326-4204-ab9d-5ae2a75a526c",
   "metadata": {},
   "outputs": [
    {
     "data": {
      "text/plain": [
       "(3+5j)"
      ]
     },
     "execution_count": 64,
     "metadata": {},
     "output_type": "execute_result"
    }
   ],
   "source": [
    "c2 = 3 + 5J\n",
    "c2"
   ]
  },
  {
   "cell_type": "code",
   "execution_count": 65,
   "id": "d3aafb6d-d93f-4d65-8ad3-aa26eee43f29",
   "metadata": {},
   "outputs": [
    {
     "name": "stdout",
     "output_type": "stream",
     "text": [
      "(10+20j)\n",
      "(3+5j)\n"
     ]
    }
   ],
   "source": [
    "print(c1)\n",
    "print(c2)"
   ]
  },
  {
   "cell_type": "code",
   "execution_count": 66,
   "id": "5e4bed31-33c2-4a7c-8906-6c71e887d6ba",
   "metadata": {},
   "outputs": [
    {
     "data": {
      "text/plain": [
       "(13+25j)"
      ]
     },
     "execution_count": 66,
     "metadata": {},
     "output_type": "execute_result"
    }
   ],
   "source": [
    "c1 + c2"
   ]
  },
  {
   "cell_type": "markdown",
   "id": "7c37e269-8c7f-4db0-8335-ed1085b141f1",
   "metadata": {},
   "source": [
    "# python data types "
   ]
  },
  {
   "cell_type": "markdown",
   "id": "6dbe3b23-2b6d-4bd0-989c-fd3e501a89ec",
   "metadata": {},
   "source": [
    "# TYPE CASTING OR TYPE CONVERSION"
   ]
  },
  {
   "cell_type": "code",
   "execution_count": 67,
   "id": "493475dc-e69c-43d3-baec-7a90ed8e4e84",
   "metadata": {},
   "outputs": [
    {
     "data": {
      "text/plain": [
       "3"
      ]
     },
     "execution_count": 67,
     "metadata": {},
     "output_type": "execute_result"
    }
   ],
   "source": [
    "int(3.4) #float to int"
   ]
  },
  {
   "cell_type": "code",
   "execution_count": 68,
   "id": "a8fa9c74-496f-402f-87fd-2c31c7d8cd07",
   "metadata": {},
   "outputs": [
    {
     "ename": "TypeError",
     "evalue": "'float' object cannot be interpreted as an integer",
     "output_type": "error",
     "traceback": [
      "\u001b[1;31m---------------------------------------------------------------------------\u001b[0m",
      "\u001b[1;31mTypeError\u001b[0m                                 Traceback (most recent call last)",
      "Cell \u001b[1;32mIn[68], line 1\u001b[0m\n\u001b[1;32m----> 1\u001b[0m \u001b[38;5;28mint\u001b[39m(\u001b[38;5;241m3.4\u001b[39m, \u001b[38;5;241m5.7\u001b[39m)\n",
      "\u001b[1;31mTypeError\u001b[0m: 'float' object cannot be interpreted as an integer"
     ]
    }
   ],
   "source": [
    "int(3.4, 5.7)"
   ]
  },
  {
   "cell_type": "code",
   "execution_count": 69,
   "id": "01358226-b48b-4639-ba17-1f159b5910ab",
   "metadata": {},
   "outputs": [
    {
     "data": {
      "text/plain": [
       "1"
      ]
     },
     "execution_count": 69,
     "metadata": {},
     "output_type": "execute_result"
    }
   ],
   "source": [
    "int(True) #bool to int "
   ]
  },
  {
   "cell_type": "code",
   "execution_count": 70,
   "id": "e6b0e738-3632-4aad-8c51-aab49a5e694f",
   "metadata": {},
   "outputs": [
    {
     "ename": "TypeError",
     "evalue": "int() can't convert non-string with explicit base",
     "output_type": "error",
     "traceback": [
      "\u001b[1;31m---------------------------------------------------------------------------\u001b[0m",
      "\u001b[1;31mTypeError\u001b[0m                                 Traceback (most recent call last)",
      "Cell \u001b[1;32mIn[70], line 1\u001b[0m\n\u001b[1;32m----> 1\u001b[0m \u001b[38;5;28mint\u001b[39m(\u001b[38;5;28;01mTrue\u001b[39;00m, \u001b[38;5;28;01mFalse\u001b[39;00m)\n",
      "\u001b[1;31mTypeError\u001b[0m: int() can't convert non-string with explicit base"
     ]
    }
   ],
   "source": [
    "int(True, False)"
   ]
  },
  {
   "cell_type": "code",
   "execution_count": 71,
   "id": "c7e3a5d4-90c1-4ad0-b575-055ab6daea82",
   "metadata": {},
   "outputs": [
    {
     "data": {
      "text/plain": [
       "0"
      ]
     },
     "execution_count": 71,
     "metadata": {},
     "output_type": "execute_result"
    }
   ],
   "source": [
    "int(False)"
   ]
  },
  {
   "cell_type": "code",
   "execution_count": 72,
   "id": "2ab0b771-cfe8-4818-8931-2ac8bf604b09",
   "metadata": {},
   "outputs": [
    {
     "name": "stdout",
     "output_type": "stream",
     "text": [
      "3\n",
      "1\n",
      "10\n"
     ]
    }
   ],
   "source": [
    "print(int(3.4))\n",
    "print(int(True))\n",
    "print(int('10'))"
   ]
  },
  {
   "cell_type": "code",
   "execution_count": 73,
   "id": "e3db5fc6-ee9c-48aa-a1e1-40b6d95fe45e",
   "metadata": {},
   "outputs": [
    {
     "ename": "TypeError",
     "evalue": "int() argument must be a string, a bytes-like object or a real number, not 'complex'",
     "output_type": "error",
     "traceback": [
      "\u001b[1;31m---------------------------------------------------------------------------\u001b[0m",
      "\u001b[1;31mTypeError\u001b[0m                                 Traceback (most recent call last)",
      "Cell \u001b[1;32mIn[73], line 1\u001b[0m\n\u001b[1;32m----> 1\u001b[0m \u001b[38;5;28mprint\u001b[39m(\u001b[38;5;28mint\u001b[39m(\u001b[38;5;241m10\u001b[39m\u001b[38;5;241m+\u001b[39m\u001b[38;5;241m20\u001b[39mj))\n",
      "\u001b[1;31mTypeError\u001b[0m: int() argument must be a string, a bytes-like object or a real number, not 'complex'"
     ]
    }
   ],
   "source": [
    "print(int(10+20j))"
   ]
  },
  {
   "cell_type": "code",
   "execution_count": 74,
   "id": "e9c491b0-95ed-437d-94f3-77a849cf3b92",
   "metadata": {},
   "outputs": [
    {
     "ename": "ValueError",
     "evalue": "invalid literal for int() with base 10: 'ten'",
     "output_type": "error",
     "traceback": [
      "\u001b[1;31m---------------------------------------------------------------------------\u001b[0m",
      "\u001b[1;31mValueError\u001b[0m                                Traceback (most recent call last)",
      "Cell \u001b[1;32mIn[74], line 1\u001b[0m\n\u001b[1;32m----> 1\u001b[0m \u001b[38;5;28mint\u001b[39m(\u001b[38;5;124m'\u001b[39m\u001b[38;5;124mten\u001b[39m\u001b[38;5;124m'\u001b[39m)\n",
      "\u001b[1;31mValueError\u001b[0m: invalid literal for int() with base 10: 'ten'"
     ]
    }
   ],
   "source": [
    "int('ten')"
   ]
  },
  {
   "cell_type": "markdown",
   "id": "7c33d881-63f3-4e67-b7f2-16dcd73ed641",
   "metadata": {},
   "source": [
    "# from all other datatype to int typecasting completed \n",
    "# complex & string with text is not allowed"
   ]
  },
  {
   "cell_type": "code",
   "execution_count": null,
   "id": "e0618710-5a0d-468e-88fa-b258d2211e83",
   "metadata": {},
   "outputs": [],
   "source": []
  },
  {
   "cell_type": "code",
   "execution_count": null,
   "id": "7dbd1dc3-ddba-4878-bd1e-7691abc898e6",
   "metadata": {},
   "outputs": [],
   "source": []
  }
 ],
 "metadata": {
  "kernelspec": {
   "display_name": "Python 3 (ipykernel)",
   "language": "python",
   "name": "python3"
  },
  "language_info": {
   "codemirror_mode": {
    "name": "ipython",
    "version": 3
   },
   "file_extension": ".py",
   "mimetype": "text/x-python",
   "name": "python",
   "nbconvert_exporter": "python",
   "pygments_lexer": "ipython3",
   "version": "3.11.7"
  }
 },
 "nbformat": 4,
 "nbformat_minor": 5
}

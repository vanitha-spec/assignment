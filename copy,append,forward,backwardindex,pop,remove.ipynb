{
 "cells": [
  {
   "cell_type": "code",
   "execution_count": 1,
   "id": "d3173897-a316-455a-be30-94c877826463",
   "metadata": {},
   "outputs": [
    {
     "data": {
      "text/plain": [
       "[20]"
      ]
     },
     "execution_count": 1,
     "metadata": {},
     "output_type": "execute_result"
    }
   ],
   "source": [
    "list(range(20,30,23))"
   ]
  },
  {
   "cell_type": "code",
   "execution_count": 2,
   "id": "80168ef7-2312-4bf3-91e2-64f3fce70912",
   "metadata": {},
   "outputs": [
    {
     "data": {
      "text/plain": [
       "[]"
      ]
     },
     "execution_count": 2,
     "metadata": {},
     "output_type": "execute_result"
    }
   ],
   "source": [
    "l = []\n",
    "l"
   ]
  },
  {
   "cell_type": "code",
   "execution_count": 3,
   "id": "5763f2ab-c6ef-4eee-93e4-b32468fb702b",
   "metadata": {},
   "outputs": [
    {
     "data": {
      "text/plain": [
       "[]"
      ]
     },
     "execution_count": 3,
     "metadata": {},
     "output_type": "execute_result"
    }
   ],
   "source": [
    "l.append\n",
    "l"
   ]
  },
  {
   "cell_type": "code",
   "execution_count": 4,
   "id": "322d1b62-3abc-4e53-8b7d-0f418745e904",
   "metadata": {},
   "outputs": [
    {
     "data": {
      "text/plain": [
       "\u001b[1;31mSignature:\u001b[0m \u001b[0ml\u001b[0m\u001b[1;33m.\u001b[0m\u001b[0mappend\u001b[0m\u001b[1;33m(\u001b[0m\u001b[0mobject\u001b[0m\u001b[1;33m,\u001b[0m \u001b[1;33m/\u001b[0m\u001b[1;33m)\u001b[0m\u001b[1;33m\u001b[0m\u001b[1;33m\u001b[0m\u001b[0m\n",
       "\u001b[1;31mDocstring:\u001b[0m Append object to the end of the list.\n",
       "\u001b[1;31mType:\u001b[0m      builtin_function_or_method"
      ]
     },
     "metadata": {},
     "output_type": "display_data"
    }
   ],
   "source": [
    "l.append?"
   ]
  },
  {
   "cell_type": "code",
   "execution_count": 5,
   "id": "7c51da3a-7a65-4856-8060-871cffc91d39",
   "metadata": {},
   "outputs": [
    {
     "data": {
      "text/plain": [
       "['__abs__',\n",
       " '__add__',\n",
       " '__and__',\n",
       " '__bool__',\n",
       " '__ceil__',\n",
       " '__class__',\n",
       " '__delattr__',\n",
       " '__dir__',\n",
       " '__divmod__',\n",
       " '__doc__',\n",
       " '__eq__',\n",
       " '__float__',\n",
       " '__floor__',\n",
       " '__floordiv__',\n",
       " '__format__',\n",
       " '__ge__',\n",
       " '__getattribute__',\n",
       " '__getnewargs__',\n",
       " '__getstate__',\n",
       " '__gt__',\n",
       " '__hash__',\n",
       " '__index__',\n",
       " '__init__',\n",
       " '__init_subclass__',\n",
       " '__int__',\n",
       " '__invert__',\n",
       " '__le__',\n",
       " '__lshift__',\n",
       " '__lt__',\n",
       " '__mod__',\n",
       " '__mul__',\n",
       " '__ne__',\n",
       " '__neg__',\n",
       " '__new__',\n",
       " '__or__',\n",
       " '__pos__',\n",
       " '__pow__',\n",
       " '__radd__',\n",
       " '__rand__',\n",
       " '__rdivmod__',\n",
       " '__reduce__',\n",
       " '__reduce_ex__',\n",
       " '__repr__',\n",
       " '__rfloordiv__',\n",
       " '__rlshift__',\n",
       " '__rmod__',\n",
       " '__rmul__',\n",
       " '__ror__',\n",
       " '__round__',\n",
       " '__rpow__',\n",
       " '__rrshift__',\n",
       " '__rshift__',\n",
       " '__rsub__',\n",
       " '__rtruediv__',\n",
       " '__rxor__',\n",
       " '__setattr__',\n",
       " '__sizeof__',\n",
       " '__str__',\n",
       " '__sub__',\n",
       " '__subclasshook__',\n",
       " '__truediv__',\n",
       " '__trunc__',\n",
       " '__xor__',\n",
       " 'as_integer_ratio',\n",
       " 'bit_count',\n",
       " 'bit_length',\n",
       " 'conjugate',\n",
       " 'denominator',\n",
       " 'from_bytes',\n",
       " 'imag',\n",
       " 'is_integer',\n",
       " 'numerator',\n",
       " 'real',\n",
       " 'to_bytes']"
      ]
     },
     "execution_count": 5,
     "metadata": {},
     "output_type": "execute_result"
    }
   ],
   "source": [
    "dir(1)"
   ]
  },
  {
   "cell_type": "code",
   "execution_count": 6,
   "id": "62b3b243-106d-4e4e-b53f-2e0780159416",
   "metadata": {},
   "outputs": [
    {
     "data": {
      "text/plain": [
       "['__abs__',\n",
       " '__add__',\n",
       " '__and__',\n",
       " '__bool__',\n",
       " '__ceil__',\n",
       " '__class__',\n",
       " '__delattr__',\n",
       " '__dir__',\n",
       " '__divmod__',\n",
       " '__doc__',\n",
       " '__eq__',\n",
       " '__float__',\n",
       " '__floor__',\n",
       " '__floordiv__',\n",
       " '__format__',\n",
       " '__ge__',\n",
       " '__getattribute__',\n",
       " '__getnewargs__',\n",
       " '__getstate__',\n",
       " '__gt__',\n",
       " '__hash__',\n",
       " '__index__',\n",
       " '__init__',\n",
       " '__init_subclass__',\n",
       " '__int__',\n",
       " '__invert__',\n",
       " '__le__',\n",
       " '__lshift__',\n",
       " '__lt__',\n",
       " '__mod__',\n",
       " '__mul__',\n",
       " '__ne__',\n",
       " '__neg__',\n",
       " '__new__',\n",
       " '__or__',\n",
       " '__pos__',\n",
       " '__pow__',\n",
       " '__radd__',\n",
       " '__rand__',\n",
       " '__rdivmod__',\n",
       " '__reduce__',\n",
       " '__reduce_ex__',\n",
       " '__repr__',\n",
       " '__rfloordiv__',\n",
       " '__rlshift__',\n",
       " '__rmod__',\n",
       " '__rmul__',\n",
       " '__ror__',\n",
       " '__round__',\n",
       " '__rpow__',\n",
       " '__rrshift__',\n",
       " '__rshift__',\n",
       " '__rsub__',\n",
       " '__rtruediv__',\n",
       " '__rxor__',\n",
       " '__setattr__',\n",
       " '__sizeof__',\n",
       " '__str__',\n",
       " '__sub__',\n",
       " '__subclasshook__',\n",
       " '__truediv__',\n",
       " '__trunc__',\n",
       " '__xor__',\n",
       " 'as_integer_ratio',\n",
       " 'bit_count',\n",
       " 'bit_length',\n",
       " 'conjugate',\n",
       " 'denominator',\n",
       " 'from_bytes',\n",
       " 'imag',\n",
       " 'is_integer',\n",
       " 'numerator',\n",
       " 'real',\n",
       " 'to_bytes']"
      ]
     },
     "execution_count": 6,
     "metadata": {},
     "output_type": "execute_result"
    }
   ],
   "source": [
    "l = []\n",
    "dir(1)"
   ]
  },
  {
   "cell_type": "code",
   "execution_count": 7,
   "id": "5844b574-aca6-4456-abdd-ef7e0f0e6378",
   "metadata": {},
   "outputs": [],
   "source": [
    "l.append(10)\n",
    "l.append(20)\n",
    "l.append(30)\n",
    "l.append(10)"
   ]
  },
  {
   "cell_type": "code",
   "execution_count": 8,
   "id": "61311161-c09b-43c3-86d3-dd55f05dbff9",
   "metadata": {},
   "outputs": [
    {
     "data": {
      "text/plain": [
       "[10, 20, 30, 10]"
      ]
     },
     "execution_count": 8,
     "metadata": {},
     "output_type": "execute_result"
    }
   ],
   "source": [
    "l"
   ]
  },
  {
   "cell_type": "code",
   "execution_count": 9,
   "id": "efca5e84-55a2-444c-898b-a4ce47a88440",
   "metadata": {},
   "outputs": [
    {
     "data": {
      "text/plain": [
       "[10, 20, 30, 10, 40]"
      ]
     },
     "execution_count": 9,
     "metadata": {},
     "output_type": "execute_result"
    }
   ],
   "source": [
    "l.append(40)\n",
    "l"
   ]
  },
  {
   "cell_type": "code",
   "execution_count": 10,
   "id": "d6c369de-5a05-458e-b439-212af371fdc5",
   "metadata": {},
   "outputs": [
    {
     "data": {
      "text/plain": [
       "5"
      ]
     },
     "execution_count": 10,
     "metadata": {},
     "output_type": "execute_result"
    }
   ],
   "source": [
    "len(l)"
   ]
  },
  {
   "cell_type": "code",
   "execution_count": 11,
   "id": "2e00b46d-4f01-4378-a31a-3bb3b21616e0",
   "metadata": {},
   "outputs": [],
   "source": [
    "l10 = l.copy"
   ]
  },
  {
   "cell_type": "code",
   "execution_count": 12,
   "id": "b4dc9beb-bb8c-4468-9207-a59262d466b3",
   "metadata": {},
   "outputs": [
    {
     "data": {
      "text/plain": [
       "<function list.copy()>"
      ]
     },
     "execution_count": 12,
     "metadata": {},
     "output_type": "execute_result"
    }
   ],
   "source": [
    "l10"
   ]
  },
  {
   "cell_type": "code",
   "execution_count": 13,
   "id": "1c2526d7-3498-4ab5-903d-c57a6022a06f",
   "metadata": {},
   "outputs": [],
   "source": [
    "l10 = []"
   ]
  },
  {
   "cell_type": "code",
   "execution_count": 14,
   "id": "590a9b91-1664-4dc7-b2a6-ae083f110de6",
   "metadata": {},
   "outputs": [],
   "source": [
    "l10 = l.copy()"
   ]
  },
  {
   "cell_type": "code",
   "execution_count": 15,
   "id": "3438abc5-5405-4b3c-b37b-ccbeeec21b19",
   "metadata": {},
   "outputs": [
    {
     "data": {
      "text/plain": [
       "[10, 20, 30, 10, 40]"
      ]
     },
     "execution_count": 15,
     "metadata": {},
     "output_type": "execute_result"
    }
   ],
   "source": [
    "l10"
   ]
  },
  {
   "cell_type": "code",
   "execution_count": 18,
   "id": "7780de07-b8cc-4831-a90c-28515ad16814",
   "metadata": {},
   "outputs": [
    {
     "name": "stdout",
     "output_type": "stream",
     "text": [
      "[10, 20, 30, 10, 40]\n",
      "[10, 20, 30, 10, 40]\n"
     ]
    }
   ],
   "source": [
    "l == l10\n",
    "print(l)\n",
    "print(l10)"
   ]
  },
  {
   "cell_type": "raw",
   "id": "0a37603b-1662-45dd-84fb-4403ad460a72",
   "metadata": {},
   "source": [
    "l == l20\n",
    "print(l)\n",
    "print(l20)"
   ]
  },
  {
   "cell_type": "code",
   "execution_count": 19,
   "id": "e5dafdb3-5310-488e-afb3-567983d803c0",
   "metadata": {},
   "outputs": [
    {
     "ename": "NameError",
     "evalue": "name 'l20' is not defined",
     "output_type": "error",
     "traceback": [
      "\u001b[1;31m---------------------------------------------------------------------------\u001b[0m",
      "\u001b[1;31mNameError\u001b[0m                                 Traceback (most recent call last)",
      "Cell \u001b[1;32mIn[19], line 1\u001b[0m\n\u001b[1;32m----> 1\u001b[0m l20 \u001b[38;5;241m==\u001b[39m l\u001b[38;5;241m.\u001b[39mcopy()\n",
      "\u001b[1;31mNameError\u001b[0m: name 'l20' is not defined"
     ]
    }
   ],
   "source": [
    "l20 == l.copy()"
   ]
  },
  {
   "cell_type": "code",
   "execution_count": 20,
   "id": "74619053-5440-41a9-af5b-b02a292bc395",
   "metadata": {},
   "outputs": [],
   "source": [
    "l20 = []"
   ]
  },
  {
   "cell_type": "code",
   "execution_count": 21,
   "id": "62334940-a287-44a9-a501-5f97f6f74a08",
   "metadata": {},
   "outputs": [],
   "source": [
    "l20 = l.copy()"
   ]
  },
  {
   "cell_type": "code",
   "execution_count": 22,
   "id": "65c20b85-7ad4-4db8-a752-cf3679f592a3",
   "metadata": {},
   "outputs": [
    {
     "data": {
      "text/plain": [
       "[10, 20, 30, 10, 40]"
      ]
     },
     "execution_count": 22,
     "metadata": {},
     "output_type": "execute_result"
    }
   ],
   "source": [
    "l20"
   ]
  },
  {
   "cell_type": "code",
   "execution_count": 23,
   "id": "a25c1198-2ac5-42bd-bb73-fdf166929f3c",
   "metadata": {},
   "outputs": [
    {
     "name": "stdout",
     "output_type": "stream",
     "text": [
      "[10, 20, 30, 10, 40]\n",
      "[10, 20, 30, 10, 40]\n"
     ]
    }
   ],
   "source": [
    "l == l20\n",
    "print(l)\n",
    "print(l20)"
   ]
  },
  {
   "cell_type": "code",
   "execution_count": 24,
   "id": "0e7ffe73-325d-4832-ac87-adbfa9602333",
   "metadata": {},
   "outputs": [],
   "source": [
    "l30 = []"
   ]
  },
  {
   "cell_type": "code",
   "execution_count": 25,
   "id": "a12f1f74-a5a8-4dca-81e7-c216cca03a98",
   "metadata": {},
   "outputs": [],
   "source": [
    "l30 = l.copy()"
   ]
  },
  {
   "cell_type": "code",
   "execution_count": 26,
   "id": "d64cdab0-88fa-4ad0-a377-9bbed7ba36a4",
   "metadata": {},
   "outputs": [
    {
     "data": {
      "text/plain": [
       "[10, 20, 30, 10, 40]"
      ]
     },
     "execution_count": 26,
     "metadata": {},
     "output_type": "execute_result"
    }
   ],
   "source": [
    "l30"
   ]
  },
  {
   "cell_type": "code",
   "execution_count": 27,
   "id": "999d7467-87ee-4655-8fbf-ec3e0ac43319",
   "metadata": {},
   "outputs": [
    {
     "name": "stdout",
     "output_type": "stream",
     "text": [
      "[10, 20, 30, 10, 40]\n",
      "[10, 20, 30, 10, 40]\n"
     ]
    }
   ],
   "source": [
    "l == l30\n",
    "print(l)\n",
    "print(l30)"
   ]
  },
  {
   "cell_type": "code",
   "execution_count": 28,
   "id": "f36e58dd-4443-44ee-96cf-f8ea84142d5c",
   "metadata": {},
   "outputs": [],
   "source": [
    "l9 = []"
   ]
  },
  {
   "cell_type": "code",
   "execution_count": 29,
   "id": "ebb8006c-97a2-4527-a7e2-a1d8325681dc",
   "metadata": {},
   "outputs": [],
   "source": [
    "l9.append(2.3)\n",
    "l9.append('nit')\n",
    "l9.append(True)\n",
    "l9.append(1 + 2j)\n",
    "l9.append([1,2,3])"
   ]
  },
  {
   "cell_type": "code",
   "execution_count": 30,
   "id": "4b17bdb6-ab5b-4221-9275-c9d4dc4bac92",
   "metadata": {},
   "outputs": [
    {
     "data": {
      "text/plain": [
       "[2.3, 'nit', True, (1+2j), [1, 2, 3]]"
      ]
     },
     "execution_count": 30,
     "metadata": {},
     "output_type": "execute_result"
    }
   ],
   "source": [
    "l9"
   ]
  },
  {
   "cell_type": "code",
   "execution_count": 31,
   "id": "349d27d9-8920-4d36-89f1-0e6c374ed79c",
   "metadata": {},
   "outputs": [
    {
     "name": "stdout",
     "output_type": "stream",
     "text": [
      "[10, 20, 30, 10, 40]\n",
      "[10, 20, 30, 10, 40]\n",
      "[2.3, 'nit', True, (1+2j), [1, 2, 3]]\n"
     ]
    }
   ],
   "source": [
    "print(l)\n",
    "print(l30)\n",
    "print(l9)"
   ]
  },
  {
   "cell_type": "code",
   "execution_count": 32,
   "id": "df261dfa-7cfc-47db-8784-96620f50f7f7",
   "metadata": {},
   "outputs": [
    {
     "name": "stdout",
     "output_type": "stream",
     "text": [
      "5\n",
      "5\n",
      "5\n"
     ]
    }
   ],
   "source": [
    "print(len(l))\n",
    "print(len(l30))\n",
    "print(len(l9))"
   ]
  },
  {
   "cell_type": "code",
   "execution_count": 33,
   "id": "5202baea-3542-4ee5-a520-49ca9836b476",
   "metadata": {},
   "outputs": [
    {
     "name": "stdout",
     "output_type": "stream",
     "text": [
      "1438874764992\n",
      "1438879681472\n",
      "1438879693504\n"
     ]
    }
   ],
   "source": [
    "print(id(l))\n",
    "print(id(l30))\n",
    "print(id(l9))"
   ]
  },
  {
   "cell_type": "code",
   "execution_count": 34,
   "id": "236d5048-4cf5-4478-ba6a-72f3a8823622",
   "metadata": {},
   "outputs": [
    {
     "data": {
      "text/plain": [
       "2"
      ]
     },
     "execution_count": 34,
     "metadata": {},
     "output_type": "execute_result"
    }
   ],
   "source": [
    "l.count(10)"
   ]
  },
  {
   "cell_type": "code",
   "execution_count": 36,
   "id": "a45e6137-6710-4955-8389-5cd208f640ac",
   "metadata": {},
   "outputs": [
    {
     "data": {
      "text/plain": [
       "1"
      ]
     },
     "execution_count": 36,
     "metadata": {},
     "output_type": "execute_result"
    }
   ],
   "source": [
    "l9.count('nit')"
   ]
  },
  {
   "cell_type": "code",
   "execution_count": 37,
   "id": "3fa024a4-17e9-448b-93f2-e6eb9fe2615b",
   "metadata": {},
   "outputs": [
    {
     "data": {
      "text/plain": [
       "[2.3, 'nit', True, (1+2j), [1, 2, 3]]"
      ]
     },
     "execution_count": 37,
     "metadata": {},
     "output_type": "execute_result"
    }
   ],
   "source": [
    "l9"
   ]
  },
  {
   "cell_type": "raw",
   "id": "da017c4e-1280-42a1-9d27-daaf4244fba0",
   "metadata": {},
   "source": [
    "list inside list = nested list\n",
    "for inside for = nested for loop\n",
    "while inside while = nested while loop"
   ]
  },
  {
   "cell_type": "code",
   "execution_count": 38,
   "id": "5bc49c41-c0b7-42b0-8ec3-d5f1690d3825",
   "metadata": {},
   "outputs": [
    {
     "data": {
      "text/plain": [
       "2.3"
      ]
     },
     "execution_count": 38,
     "metadata": {},
     "output_type": "execute_result"
    }
   ],
   "source": [
    "l9[0]"
   ]
  },
  {
   "cell_type": "code",
   "execution_count": 39,
   "id": "8c847f64-beec-486e-a799-a89c21759b07",
   "metadata": {},
   "outputs": [
    {
     "data": {
      "text/plain": [
       "'nit'"
      ]
     },
     "execution_count": 39,
     "metadata": {},
     "output_type": "execute_result"
    }
   ],
   "source": [
    "l9[1]"
   ]
  },
  {
   "cell_type": "code",
   "execution_count": 40,
   "id": "a508bcad-64f6-4335-893e-ef649c14cddf",
   "metadata": {},
   "outputs": [
    {
     "data": {
      "text/plain": [
       "(1+2j)"
      ]
     },
     "execution_count": 40,
     "metadata": {},
     "output_type": "execute_result"
    }
   ],
   "source": [
    "l9[3]"
   ]
  },
  {
   "cell_type": "markdown",
   "id": "8d0f079f-7a5f-48bf-bcfb-2b513a546e54",
   "metadata": {},
   "source": [
    "Forward and Backward indexing"
   ]
  },
  {
   "cell_type": "code",
   "execution_count": 41,
   "id": "368ca741-0bd9-4b50-8ce6-bd86c91e6593",
   "metadata": {},
   "outputs": [
    {
     "data": {
      "text/plain": [
       "[1, 2, 3]"
      ]
     },
     "execution_count": 41,
     "metadata": {},
     "output_type": "execute_result"
    }
   ],
   "source": [
    "l9[-1]"
   ]
  },
  {
   "cell_type": "code",
   "execution_count": 42,
   "id": "4595806f-1c30-4e92-9245-02bc67a5c087",
   "metadata": {},
   "outputs": [
    {
     "data": {
      "text/plain": [
       "(1+2j)"
      ]
     },
     "execution_count": 42,
     "metadata": {},
     "output_type": "execute_result"
    }
   ],
   "source": [
    "l9[-2]"
   ]
  },
  {
   "cell_type": "code",
   "execution_count": 43,
   "id": "17835a74-b3de-4027-b0bf-bceab806eda9",
   "metadata": {},
   "outputs": [
    {
     "data": {
      "text/plain": [
       "True"
      ]
     },
     "execution_count": 43,
     "metadata": {},
     "output_type": "execute_result"
    }
   ],
   "source": [
    "l9[-3]"
   ]
  },
  {
   "cell_type": "code",
   "execution_count": 44,
   "id": "c6f0d703-0805-4186-8010-f518bf476391",
   "metadata": {},
   "outputs": [
    {
     "data": {
      "text/plain": [
       "2.3"
      ]
     },
     "execution_count": 44,
     "metadata": {},
     "output_type": "execute_result"
    }
   ],
   "source": [
    "l9[0]"
   ]
  },
  {
   "cell_type": "code",
   "execution_count": 45,
   "id": "eeaab97c-3669-4bf8-9113-950dfcb38c57",
   "metadata": {},
   "outputs": [],
   "source": [
    "l9[0] = 230"
   ]
  },
  {
   "cell_type": "code",
   "execution_count": 46,
   "id": "7fdb3bae-8945-4ffe-9069-ec34117fed75",
   "metadata": {},
   "outputs": [
    {
     "data": {
      "text/plain": [
       "[230, 'nit', True, (1+2j), [1, 2, 3]]"
      ]
     },
     "execution_count": 46,
     "metadata": {},
     "output_type": "execute_result"
    }
   ],
   "source": [
    "l9"
   ]
  },
  {
   "cell_type": "raw",
   "id": "e852625f-955f-4c20-b05a-f054fdb42a3d",
   "metadata": {},
   "source": [
    "it's changed now so this is called mutable or changeable"
   ]
  },
  {
   "cell_type": "code",
   "execution_count": 47,
   "id": "e830a18b-8eac-412f-ab65-818c4d610e51",
   "metadata": {},
   "outputs": [],
   "source": [
    "l10.clear()"
   ]
  },
  {
   "cell_type": "code",
   "execution_count": 48,
   "id": "23186ec4-c7a0-432d-a70a-a70ee5565fb1",
   "metadata": {},
   "outputs": [
    {
     "data": {
      "text/plain": [
       "[]"
      ]
     },
     "execution_count": 48,
     "metadata": {},
     "output_type": "execute_result"
    }
   ],
   "source": [
    "l10"
   ]
  },
  {
   "cell_type": "code",
   "execution_count": 49,
   "id": "002f598b-c13d-4105-82f8-857e9346989f",
   "metadata": {},
   "outputs": [
    {
     "data": {
      "text/plain": [
       "0"
      ]
     },
     "execution_count": 49,
     "metadata": {},
     "output_type": "execute_result"
    }
   ],
   "source": [
    "len(l10)"
   ]
  },
  {
   "cell_type": "code",
   "execution_count": 50,
   "id": "692dc767-b306-4c7c-90e3-ec8d72c16749",
   "metadata": {},
   "outputs": [],
   "source": [
    "del l10"
   ]
  },
  {
   "cell_type": "code",
   "execution_count": 51,
   "id": "609f1eb8-23ef-452a-873b-c6f981023442",
   "metadata": {},
   "outputs": [
    {
     "ename": "NameError",
     "evalue": "name 'l10' is not defined",
     "output_type": "error",
     "traceback": [
      "\u001b[1;31m---------------------------------------------------------------------------\u001b[0m",
      "\u001b[1;31mNameError\u001b[0m                                 Traceback (most recent call last)",
      "Cell \u001b[1;32mIn[51], line 1\u001b[0m\n\u001b[1;32m----> 1\u001b[0m l10\n",
      "\u001b[1;31mNameError\u001b[0m: name 'l10' is not defined"
     ]
    }
   ],
   "source": [
    "l10"
   ]
  },
  {
   "cell_type": "code",
   "execution_count": 52,
   "id": "3147dcd5-b738-4fb1-82b3-c64833b65b64",
   "metadata": {},
   "outputs": [
    {
     "data": {
      "text/plain": [
       "[1, 2, 3]"
      ]
     },
     "execution_count": 52,
     "metadata": {},
     "output_type": "execute_result"
    }
   ],
   "source": [
    "l9.pop()"
   ]
  },
  {
   "cell_type": "code",
   "execution_count": 53,
   "id": "f668bdcb-674c-4633-85d8-936040d56373",
   "metadata": {},
   "outputs": [
    {
     "data": {
      "text/plain": [
       "[230, 'nit', True, (1+2j)]"
      ]
     },
     "execution_count": 53,
     "metadata": {},
     "output_type": "execute_result"
    }
   ],
   "source": [
    "l9"
   ]
  },
  {
   "cell_type": "code",
   "execution_count": 54,
   "id": "76582dd0-6bf0-4a57-82cb-d051071599a5",
   "metadata": {},
   "outputs": [
    {
     "ename": "TypeError",
     "evalue": "'str' object cannot be interpreted as an integer",
     "output_type": "error",
     "traceback": [
      "\u001b[1;31m---------------------------------------------------------------------------\u001b[0m",
      "\u001b[1;31mTypeError\u001b[0m                                 Traceback (most recent call last)",
      "Cell \u001b[1;32mIn[54], line 1\u001b[0m\n\u001b[1;32m----> 1\u001b[0m l9\u001b[38;5;241m.\u001b[39mpop(\u001b[38;5;124m'\u001b[39m\u001b[38;5;124mnit\u001b[39m\u001b[38;5;124m'\u001b[39m)\n",
      "\u001b[1;31mTypeError\u001b[0m: 'str' object cannot be interpreted as an integer"
     ]
    }
   ],
   "source": [
    "l9.pop('nit')"
   ]
  },
  {
   "cell_type": "code",
   "execution_count": 55,
   "id": "2a01ecb8-0906-4e30-8476-eec1e1e4716e",
   "metadata": {},
   "outputs": [
    {
     "data": {
      "text/plain": [
       "'nit'"
      ]
     },
     "execution_count": 55,
     "metadata": {},
     "output_type": "execute_result"
    }
   ],
   "source": [
    "l9.pop(1)"
   ]
  },
  {
   "cell_type": "code",
   "execution_count": 57,
   "id": "6849bec4-6e84-4548-ae41-20bd5d6ba670",
   "metadata": {},
   "outputs": [
    {
     "data": {
      "text/plain": [
       "[230, True, (1+2j)]"
      ]
     },
     "execution_count": 57,
     "metadata": {},
     "output_type": "execute_result"
    }
   ],
   "source": [
    "l9"
   ]
  },
  {
   "cell_type": "code",
   "execution_count": 59,
   "id": "b52a70f8-2f02-4aff-9ada-c7caa21c289d",
   "metadata": {},
   "outputs": [
    {
     "data": {
      "text/plain": [
       "[230, True, (1+2j)]"
      ]
     },
     "execution_count": 59,
     "metadata": {},
     "output_type": "execute_result"
    }
   ],
   "source": [
    "l9"
   ]
  },
  {
   "cell_type": "code",
   "execution_count": 62,
   "id": "8206a86e-34d5-4191-a990-3512377aca37",
   "metadata": {},
   "outputs": [
    {
     "data": {
      "text/plain": [
       "[10, 20, 30, 10, 40]"
      ]
     },
     "execution_count": 62,
     "metadata": {},
     "output_type": "execute_result"
    }
   ],
   "source": [
    "l30"
   ]
  },
  {
   "cell_type": "code",
   "execution_count": 65,
   "id": "27b8d00a-5499-4ad5-a13d-c8d62c03780b",
   "metadata": {},
   "outputs": [],
   "source": [
    "l1 = []"
   ]
  },
  {
   "cell_type": "code",
   "execution_count": 66,
   "id": "6bfeed6f-403f-4e15-a31b-ce9e23da02f4",
   "metadata": {},
   "outputs": [],
   "source": [
    "l9=l.copy()"
   ]
  },
  {
   "cell_type": "code",
   "execution_count": 68,
   "id": "59db01a4-7e87-47ea-8074-5293cec1a58b",
   "metadata": {},
   "outputs": [],
   "source": [
    "l9 = l1"
   ]
  },
  {
   "cell_type": "code",
   "execution_count": 69,
   "id": "ea74593a-2fb4-44b0-a2b9-69f0371626ce",
   "metadata": {},
   "outputs": [
    {
     "data": {
      "text/plain": [
       "[]"
      ]
     },
     "execution_count": 69,
     "metadata": {},
     "output_type": "execute_result"
    }
   ],
   "source": [
    "l1"
   ]
  },
  {
   "cell_type": "code",
   "execution_count": 70,
   "id": "afeeda5b-f9d0-4b41-80ab-b9d47de3b2a4",
   "metadata": {},
   "outputs": [
    {
     "data": {
      "text/plain": [
       "[]"
      ]
     },
     "execution_count": 70,
     "metadata": {},
     "output_type": "execute_result"
    }
   ],
   "source": [
    "l9"
   ]
  },
  {
   "cell_type": "code",
   "execution_count": 71,
   "id": "eb719495-214a-4797-ad40-409b3f54df8d",
   "metadata": {},
   "outputs": [],
   "source": [
    "l9.append(2.3)\n",
    "l9.append('nit')\n",
    "l9.append(True)\n",
    "l9.append(1 + 2j)\n",
    "l9.append([1,2,3])"
   ]
  },
  {
   "cell_type": "code",
   "execution_count": 72,
   "id": "2a8df911-761e-4fc6-b346-69fa98b51f87",
   "metadata": {},
   "outputs": [
    {
     "data": {
      "text/plain": [
       "[2.3, 'nit', True, (1+2j), [1, 2, 3]]"
      ]
     },
     "execution_count": 72,
     "metadata": {},
     "output_type": "execute_result"
    }
   ],
   "source": [
    "l9"
   ]
  },
  {
   "cell_type": "code",
   "execution_count": 73,
   "id": "5454c50c-9fa3-411c-83d9-f177a1a5f2d8",
   "metadata": {},
   "outputs": [
    {
     "data": {
      "text/plain": [
       "[2.3, 'nit', True, (1+2j), [1, 2, 3]]"
      ]
     },
     "execution_count": 73,
     "metadata": {},
     "output_type": "execute_result"
    }
   ],
   "source": [
    "l1 = l9.copy()\n",
    "l1"
   ]
  },
  {
   "cell_type": "code",
   "execution_count": 74,
   "id": "e666ef86-e245-495e-8a44-bbd88805ce87",
   "metadata": {},
   "outputs": [
    {
     "data": {
      "text/plain": [
       "[2.3, 'nit', True, (1+2j), [1, 2, 3]]"
      ]
     },
     "execution_count": 74,
     "metadata": {},
     "output_type": "execute_result"
    }
   ],
   "source": [
    "l2 = l1.copy()\n",
    "l2"
   ]
  },
  {
   "cell_type": "code",
   "execution_count": 75,
   "id": "769f3571-ee65-4dca-ae25-f8b58b2e81e5",
   "metadata": {},
   "outputs": [
    {
     "data": {
      "text/plain": [
       "['nit', True, 2.3, (1+2j), [1, 2, 3], 'mit']"
      ]
     },
     "execution_count": 75,
     "metadata": {},
     "output_type": "execute_result"
    }
   ],
   "source": [
    "l1 = ['nit', True, 2.3, (1+2j), [1,2,3], 'mit']\n",
    "l1"
   ]
  },
  {
   "cell_type": "code",
   "execution_count": 76,
   "id": "84e17e70-ece2-46d7-b176-dac6747bb6aa",
   "metadata": {},
   "outputs": [],
   "source": [
    "l1.remove(True)"
   ]
  },
  {
   "cell_type": "code",
   "execution_count": 77,
   "id": "0ff155e6-7642-488c-98f6-dbd1c2b43ceb",
   "metadata": {},
   "outputs": [
    {
     "data": {
      "text/plain": [
       "['nit', 2.3, (1+2j), [1, 2, 3], 'mit']"
      ]
     },
     "execution_count": 77,
     "metadata": {},
     "output_type": "execute_result"
    }
   ],
   "source": [
    "l1"
   ]
  },
  {
   "cell_type": "code",
   "execution_count": 78,
   "id": "8998ffa4-ca43-4f41-92fb-9b20b1f09844",
   "metadata": {},
   "outputs": [],
   "source": [
    "l1.remove([1,2,3])"
   ]
  },
  {
   "cell_type": "code",
   "execution_count": 79,
   "id": "a61bd661-887d-4bee-b641-0a760e694e99",
   "metadata": {},
   "outputs": [
    {
     "data": {
      "text/plain": [
       "['nit', 2.3, (1+2j), 'mit']"
      ]
     },
     "execution_count": 79,
     "metadata": {},
     "output_type": "execute_result"
    }
   ],
   "source": [
    "l1"
   ]
  },
  {
   "cell_type": "code",
   "execution_count": null,
   "id": "1910c2cf-6ebf-49dd-b542-a07fd2df16ec",
   "metadata": {},
   "outputs": [],
   "source": []
  }
 ],
 "metadata": {
  "kernelspec": {
   "display_name": "Python 3 (ipykernel)",
   "language": "python",
   "name": "python3"
  },
  "language_info": {
   "codemirror_mode": {
    "name": "ipython",
    "version": 3
   },
   "file_extension": ".py",
   "mimetype": "text/x-python",
   "name": "python",
   "nbconvert_exporter": "python",
   "pygments_lexer": "ipython3",
   "version": "3.12.7"
  }
 },
 "nbformat": 4,
 "nbformat_minor": 5
}

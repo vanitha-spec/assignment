{
 "cells": [
  {
   "cell_type": "markdown",
   "id": "9a9cb6f7-55a7-4260-ae3d-aad29b997831",
   "metadata": {},
   "source": [
    "#Integer Variables"
   ]
  },
  {
   "cell_type": "raw",
   "id": "fe67ec9d-c451-47df-ab8a-9a6a4840f963",
   "metadata": {},
   "source": [
    "- Integer, String, Float,Boolean variables\n",
    "- Storing and Printing the value\n",
    "- Using a variable in Expression\n",
    "- Changing the value of a variable\n",
    "- Concatenating the Strings\n",
    "- Using variable in a calculation\n",
    "- Reassigning values to variables"
   ]
  },
  {
   "cell_type": "code",
   "execution_count": 2,
   "id": "87d8b05c-7325-4fe9-a7b6-b01a9c58f0cb",
   "metadata": {},
   "outputs": [
    {
     "name": "stdout",
     "output_type": "stream",
     "text": [
      "vanitha\n"
     ]
    }
   ],
   "source": [
    "name = \"vanitha\"\n",
    "print(name)"
   ]
  },
  {
   "cell_type": "code",
   "execution_count": 1,
   "id": "9baad23e-2172-4395-af46-3aa56c485d9f",
   "metadata": {},
   "outputs": [
    {
     "name": "stdout",
     "output_type": "stream",
     "text": [
      "23\n"
     ]
    }
   ],
   "source": [
    "age = 23\n",
    "print(age)"
   ]
  },
  {
   "cell_type": "code",
   "execution_count": 3,
   "id": "b320536f-6894-4441-8450-b956021cc59a",
   "metadata": {},
   "outputs": [
    {
     "name": "stdout",
     "output_type": "stream",
     "text": [
      "99.99\n"
     ]
    }
   ],
   "source": [
    "price = 99.99\n",
    "print(price)"
   ]
  },
  {
   "cell_type": "code",
   "execution_count": 5,
   "id": "f1ccea74-de26-45e1-bafc-6518ada7f267",
   "metadata": {},
   "outputs": [
    {
     "name": "stdout",
     "output_type": "stream",
     "text": [
      "True\n"
     ]
    }
   ],
   "source": [
    "is_active = True\n",
    "print(is_active)"
   ]
  },
  {
   "cell_type": "code",
   "execution_count": 7,
   "id": "8d0b4943-2b7e-4ae9-9af6-ccdb9ce9fc98",
   "metadata": {},
   "outputs": [
    {
     "name": "stdout",
     "output_type": "stream",
     "text": [
      "10\n",
      "30\n"
     ]
    }
   ],
   "source": [
    "x=10\n",
    "print(x)\n",
    "y = 30\n",
    "print(y)"
   ]
  },
  {
   "cell_type": "code",
   "execution_count": 8,
   "id": "a3bb7296-49b1-4406-811b-036c848a8e57",
   "metadata": {},
   "outputs": [
    {
     "name": "stdout",
     "output_type": "stream",
     "text": [
      "14\n"
     ]
    }
   ],
   "source": [
    "a = 5\n",
    "b = 9\n",
    "result = a + b\n",
    "print(result)"
   ]
  },
  {
   "cell_type": "code",
   "execution_count": 9,
   "id": "e3844d8f-6629-431d-95f9-39167b570fa0",
   "metadata": {},
   "outputs": [
    {
     "name": "stdout",
     "output_type": "stream",
     "text": [
      "50\n",
      "100\n"
     ]
    }
   ],
   "source": [
    "score = 50\n",
    "print(score)\n",
    "score = 100\n",
    "print(score)"
   ]
  },
  {
   "cell_type": "code",
   "execution_count": 10,
   "id": "55dce47c-04b6-433b-9297-cba4d9e1cff0",
   "metadata": {},
   "outputs": [
    {
     "name": "stdout",
     "output_type": "stream",
     "text": [
      "Vanitha gadge\n"
     ]
    }
   ],
   "source": [
    "first_name = 'Vanitha'\n",
    "last_name = 'gadge'\n",
    "#Concatinating strings and storing in a new variable\n",
    "full_name = first_name + \" \" + last_name\n",
    "print(full_name)"
   ]
  },
  {
   "cell_type": "code",
   "execution_count": 11,
   "id": "2caa0527-8ce0-42f9-ad59-477e069cd462",
   "metadata": {},
   "outputs": [
    {
     "name": "stdout",
     "output_type": "stream",
     "text": [
      "50\n"
     ]
    }
   ],
   "source": [
    "#Assigning values to variable\n",
    "length = 10\n",
    "width = 5\n",
    "#Calculating the area of rectangle\n",
    "area = length * width\n",
    "print(area)"
   ]
  },
  {
   "cell_type": "code",
   "execution_count": 12,
   "id": "e0f66ff3-29e0-4490-90e9-80fc72e0cae7",
   "metadata": {},
   "outputs": [
    {
     "name": "stdout",
     "output_type": "stream",
     "text": [
      "10\n",
      "30\n"
     ]
    }
   ],
   "source": [
    "#Python allows you to reassign a variable to a new value at any time.\n",
    "x = 10\n",
    "print(x)\n",
    "x =30\n",
    "print(x)"
   ]
  },
  {
   "cell_type": "code",
   "execution_count": 13,
   "id": "6f3bd76b-3bec-4f07-b47e-162b82a90576",
   "metadata": {},
   "outputs": [
    {
     "name": "stdout",
     "output_type": "stream",
     "text": [
      "10\n"
     ]
    }
   ],
   "source": [
    "x = 10\n",
    "print(x)"
   ]
  },
  {
   "cell_type": "code",
   "execution_count": 14,
   "id": "bc6098a5-ae16-4e28-bded-595323d8e88c",
   "metadata": {},
   "outputs": [
    {
     "name": "stdout",
     "output_type": "stream",
     "text": [
      "30\n"
     ]
    }
   ],
   "source": [
    "x = 30\n",
    "print(x)"
   ]
  }
 ],
 "metadata": {
  "kernelspec": {
   "display_name": "Python 3 (ipykernel)",
   "language": "python",
   "name": "python3"
  },
  "language_info": {
   "codemirror_mode": {
    "name": "ipython",
    "version": 3
   },
   "file_extension": ".py",
   "mimetype": "text/x-python",
   "name": "python",
   "nbconvert_exporter": "python",
   "pygments_lexer": "ipython3",
   "version": "3.12.7"
  }
 },
 "nbformat": 4,
 "nbformat_minor": 5
}

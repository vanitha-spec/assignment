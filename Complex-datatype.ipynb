{
 "cells": [
  {
   "cell_type": "markdown",
   "id": "b67e4310-27b3-4c9b-8034-01ed9c71da2a",
   "metadata": {},
   "source": [
    "#Complex Datatype\n",
    "#Operation with complex numbers\n",
    "#Using Built-in Functions\n",
    "#Complex number in the cmath module"
   ]
  },
  {
   "cell_type": "code",
   "execution_count": 1,
   "id": "0aebceb4-4591-4f2c-a38b-dc5c9eb04057",
   "metadata": {},
   "outputs": [
    {
     "name": "stdout",
     "output_type": "stream",
     "text": [
      "3.0\n",
      "4.0\n"
     ]
    }
   ],
   "source": [
    "# z = real + imaginary * 1j\n",
    "z = 3 + 4j\n",
    "# Here 3 is the real part and 4j is the imaginary part\n",
    "print(z.real)\n",
    "print(z.imag)"
   ]
  },
  {
   "cell_type": "code",
   "execution_count": 2,
   "id": "87e2c1d1-66d1-414e-b400-5651d007fb2e",
   "metadata": {},
   "outputs": [
    {
     "name": "stdout",
     "output_type": "stream",
     "text": [
      "(4+6j)\n",
      "(2+2j)\n",
      "(-5+10j)\n",
      "(2.2-0.4j)\n"
     ]
    }
   ],
   "source": [
    "a = 3 + 4j\n",
    "b = 1 + 2j\n",
    "print(a+b)\n",
    "print(a-b)\n",
    "print(a*b)\n",
    "print(a/b)"
   ]
  },
  {
   "cell_type": "code",
   "execution_count": 4,
   "id": "191a7213-62cd-40cb-80ed-d263196b6e08",
   "metadata": {},
   "outputs": [
    {
     "name": "stdout",
     "output_type": "stream",
     "text": [
      "5.0\n"
     ]
    }
   ],
   "source": [
    "# abz(z): returns the magnitude(absolute value) of the complex number\n",
    "# conj(z): returns the complex conjugate of the number\n",
    "z = 3 + 4j\n",
    "print(abs(z))\n"
   ]
  },
  {
   "cell_type": "code",
   "execution_count": 8,
   "id": "c0cd3f0c-c30b-4601-af2d-754698b960d4",
   "metadata": {},
   "outputs": [
    {
     "name": "stdout",
     "output_type": "stream",
     "text": [
      "(3-2j)\n"
     ]
    }
   ],
   "source": [
    "z = 3 + 2j\n",
    "print(z.conjugate())"
   ]
  },
  {
   "cell_type": "code",
   "execution_count": 11,
   "id": "143782cb-e2e3-4e9b-8188-2c8acf27eb28",
   "metadata": {},
   "outputs": [
    {
     "name": "stdout",
     "output_type": "stream",
     "text": [
      "0.7853981633974483\n",
      "(1.4142135623730951, 0.7853981633974483)\n",
      "(1.09868411346781+0.45508986056222733j)\n"
     ]
    }
   ],
   "source": [
    "import cmath\n",
    "# cmath module provides additional functionalityfor complex numbers, such as trignometric functions, logarithms and square roots\n",
    "z = 1 +1j\n",
    "# Getting the phase (angle) of the complex number\n",
    "print(cmath.phase(z))\n",
    "# Getting the polar form of a complex number(magnitude, angle)\n",
    "print(cmath.polar(z))\n",
    "# Getting the square root of a complex number\n",
    "print(cmath.sqrt(z))"
   ]
  },
  {
   "cell_type": "raw",
   "id": "14f3526b-35d6-4d36-ae30-5ddb5eb8e809",
   "metadata": {},
   "source": [
    "- Complex numbers are written j or J for the imaginary part\n",
    "- You can perform basic arithmatic operations on complex numbers.\n",
    "- You can access the real and imaginary parts using .real and .imag.\n",
    "- The cmath module offers additional functions for complex numbers."
   ]
  }
 ],
 "metadata": {
  "kernelspec": {
   "display_name": "Python 3 (ipykernel)",
   "language": "python",
   "name": "python3"
  },
  "language_info": {
   "codemirror_mode": {
    "name": "ipython",
    "version": 3
   },
   "file_extension": ".py",
   "mimetype": "text/x-python",
   "name": "python",
   "nbconvert_exporter": "python",
   "pygments_lexer": "ipython3",
   "version": "3.12.7"
  }
 },
 "nbformat": 4,
 "nbformat_minor": 5
}
